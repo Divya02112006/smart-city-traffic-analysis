# 📊 Smart City Traffic & Pollution Analysis
# Author: Divya Sasha

# 🔹 Step 1: Libraries import
import pandas as pd
import matplotlib.pyplot as plt

# 🔹 Step 2: Dataset load
df = pd.read_csv("city_traffic_pollution.csv")

# 🔹 Step 3: Dataset summary
print("First 5 rows:")
print(df.head())
print("\nAvailable Columns:", df.columns.tolist())
print("\nDataset Info:")
print(df.info())
print("\nMissing values:")
print(df.isnull().sum())

# 🔹 Step 4: Auto column mapping
# (Adjust names based on dataset)
traffic_col = "Traffic_Volume" if "Traffic_Volume" in df.columns else "Traffic"
co2_col = "CO2_Level" if "CO2_Level" in df.columns else "CO2"
date_col = "Date"
area_col = "Area"
accident_col = "Accidents"

# 🔹 Step 5: Daily Traffic Trend
plt.figure(figsize=(10,5))
df.groupby(date_col)[traffic_col].sum().plot(kind="line", marker="o")
plt.title("Daily Traffic Trend", fontsize=14)
plt.xlabel("Date")
plt.ylabel("Traffic Volume")
plt.grid(True)
plt.savefig("daily_traffic_trend.png")   # Save image
plt.show()

# 🔹 Step 6: Accidents by Area
plt.figure(figsize=(8,5))
df.groupby(area_col)[accident_col].sum().plot(kind="bar", color="skyblue")
plt.title("Accidents by Area", fontsize=14)
plt.xlabel("Area")
plt.ylabel("Total Accidents")
plt.savefig("accidents_by_area.png")   # Save image
plt.show()

# 🔹 Step 7: Traffic vs Pollution
plt.figure(figsize=(8,6))
plt.scatter(df[traffic_col], df[co2_col], c="red", alpha=0.5)
plt.title("Traffic vs CO2 Levels", fontsize=14)
plt.xlabel("Traffic Volume")
plt.ylabel("CO2 Level")
plt.savefig("traffic_vs_co2.png")   # Save image
plt.show()

# 🔹 Step 8: Summary Stats
print("\n--- Summary Statistics ---")
print(df.describe())
